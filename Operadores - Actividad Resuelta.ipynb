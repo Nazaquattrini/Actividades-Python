{
 "cells": [
  {
   "cell_type": "markdown",
   "metadata": {},
   "source": [
    "## Operadores - Actividad"
   ]
  },
  {
   "cell_type": "markdown",
   "metadata": {},
   "source": [
    "1) Pedir al usuario dos números y mostrar por pantalla la suma de ellos."
   ]
  },
  {
   "cell_type": "code",
   "execution_count": 11,
   "metadata": {},
   "outputs": [
    {
     "name": "stdout",
     "output_type": "stream",
     "text": [
      "La suma de 34.0 y 34.0 es igual a: 68.0\n"
     ]
    }
   ],
   "source": [
    "numero1 = float(input(\"Por favor, ingresa el primer número a sumar: \"))\n",
    "numero2 = float(input(\"Ahora, ingresa el segundo número a sumar: \"))\n",
    "suma = numero1 + numero2\n",
    "print(\"La suma de\", numero1, \"y\", numero2, \"es igual a:\", suma)"
   ]
  },
  {
   "cell_type": "markdown",
   "metadata": {},
   "source": [
    "2) Calcular el perímetro y área de un rectángulo dada su base y su altura (el usuario debe introducir por teclado los dos valores)."
   ]
  },
  {
   "cell_type": "code",
   "execution_count": 2,
   "metadata": {},
   "outputs": [
    {
     "name": "stdout",
     "output_type": "stream",
     "text": [
      "La base del rectángulo es: 22.0\n",
      "la altura del rectángulo es:  23.0\n",
      "El perimetro del rectángulo es:  90.0\n",
      "El area del rectángulo es:  506.0\n"
     ]
    }
   ],
   "source": [
    "base = float(input(\"Ingrese la base del rectángulo: \"))\n",
    "altura = float(input(\"Ingrese la altura del rectángulo: \"))\n",
    "\n",
    "perimetro = (base + altura) * 2\n",
    "area = base * altura\n",
    "print(\"La base del rectángulo es:\", base)\n",
    "print(\"la altura del rectángulo es: \", altura)\n",
    "print (\"El perimetro del rectángulo es: \", perimetro)\n",
    "print(\"El area del rectángulo es: \", area)"
   ]
  },
  {
   "cell_type": "markdown",
   "metadata": {},
   "source": [
    "3) Calcular el resultado de elevar un número entero a otro número entero (por ejemplo, 5 elevado a 3 = 5^3 = 5*5*5)."
   ]
  },
  {
   "cell_type": "code",
   "execution_count": 3,
   "metadata": {},
   "outputs": [
    {
     "name": "stdout",
     "output_type": "stream",
     "text": [
      "El resuñtado de elevar dos numeros enteros es:  177147\n"
     ]
    }
   ],
   "source": [
    "base_entero = 3\n",
    "exponente_entero = 11\n",
    "resultado_elevado = base_entero ** exponente_entero\n",
    "\n",
    "print(\"El resuñtado de elevar dos numeros enteros es: \", resultado_elevado)"
   ]
  },
  {
   "cell_type": "code",
   "execution_count": 4,
   "metadata": {},
   "outputs": [
    {
     "name": "stdout",
     "output_type": "stream",
     "text": [
      "El resultado de elevar un número entero a otro número entero es:  3138428376721\n"
     ]
    }
   ],
   "source": [
    "numero3 = int(input(\"Ingrese un número entero de base: \"))\n",
    "numero4 = int(input(\"Ingrese otro número entero de exponente: \" ))\n",
    "resultado_enteros = numero3 ** numero4\n",
    "print(\"El resultado de elevar un número entero a otro número entero es: \", resultado_enteros)"
   ]
  },
  {
   "cell_type": "markdown",
   "metadata": {},
   "source": [
    "4) Escribe un programa que convierta grados Celsius a grados Fahrenheit utilizando la fórmula: **F = (C * 9/5) + 32**"
   ]
  },
  {
   "cell_type": "code",
   "execution_count": 5,
   "metadata": {},
   "outputs": [
    {
     "name": "stdout",
     "output_type": "stream",
     "text": [
      "La temperatura es:  23.0 grados celsius y es equivalente a:  73.4 grados farenheit\n"
     ]
    }
   ],
   "source": [
    "celsius = float(input(\"Ingrese la temperatura en grados Celsius: \"))\n",
    "farenheit = (celsius * 9/5) + 32\n",
    "\n",
    "print(\"La temperatura es: \", celsius, \"grados celsius y es equivalente a: \", farenheit, \"grados farenheit\")"
   ]
  },
  {
   "cell_type": "markdown",
   "metadata": {},
   "source": [
    "5) Pedir al usuario su edad y mostrar por pantalla si es mayor de edad o no. (Mayor de edad >= 18)"
   ]
  },
  {
   "cell_type": "code",
   "execution_count": 6,
   "metadata": {},
   "outputs": [
    {
     "name": "stdout",
     "output_type": "stream",
     "text": [
      "Eres mayor de edad\n"
     ]
    }
   ],
   "source": [
    "edad = float(input(\"Por favor, ingrese su edad: \"))\n",
    "if edad >= 18.0: \n",
    "    print(\"Eres mayor de edad\")\n",
    "else:\n",
    "    print(\"No eres mayor de edad\")"
   ]
  },
  {
   "cell_type": "markdown",
   "metadata": {},
   "source": [
    "6) Comprobar si el numero ingresado por el usuario es par o impar."
   ]
  },
  {
   "cell_type": "code",
   "execution_count": 12,
   "metadata": {},
   "outputs": [
    {
     "name": "stdout",
     "output_type": "stream",
     "text": [
      "El numero ingresado es par\n"
     ]
    }
   ],
   "source": [
    "numero_user =   int(input(\"Porfavor, Ingrese un número para saber si es par o impar: \"))\n",
    "\n",
    "if numero_user % 2 == 0:\n",
    "    print(\"El numero ingresado es par\")\n",
    "else: \n",
    "    print(\"El numero ingresado es impar\")"
   ]
  },
  {
   "cell_type": "markdown",
   "metadata": {},
   "source": [
    "7) Pedir al usuario que ingrese su dirección email y luego mostrar un mensaje indicando si la dirección es válida o no. Una dirección se considerará válida si contiene el símbolo \"@\"."
   ]
  },
  {
   "cell_type": "code",
   "execution_count": 8,
   "metadata": {},
   "outputs": [
    {
     "name": "stdout",
     "output_type": "stream",
     "text": [
      "La dirección de correo electrónico no es válida.\n"
     ]
    }
   ],
   "source": [
    "correo= input(\"Ingrese su dirección de correo electrónico: \")\n",
    "if correo.find(\"@\") != -1:\n",
    "    print(\"La dirección de email es válida.\")\n",
    "else:   print(\"La dirección de correo electrónico no es válida.\")\n"
   ]
  },
  {
   "cell_type": "markdown",
   "metadata": {},
   "source": [
    "8) Dado un número de dos cifras, diseñe un algoritmo que permita obtener el número invertido. Ejemplo, si se introduce 23 que muestre 32. (Recordar que las cadenas pueden tratarse como listas de caracteres)."
   ]
  },
  {
   "cell_type": "code",
   "execution_count": 13,
   "metadata": {},
   "outputs": [
    {
     "name": "stdout",
     "output_type": "stream",
     "text": [
      "El número invertido es: 43\n"
     ]
    }
   ],
   "source": [
    "numero_5 = input(\"Ingrese un número de dos cifras para invertirlo: \")\n",
    "if len(numero_5) == 2:\n",
    "    numero_invertido = numero_5[1] + numero_5[0]\n",
    "    print(\"El número invertido es:\", numero_invertido)\n",
    "else:\n",
    "    print(\"Por favor, ingrese un número de dos cifras.\")"
   ]
  },
  {
   "cell_type": "markdown",
   "metadata": {},
   "source": []
  },
  {
   "cell_type": "markdown",
   "metadata": {},
   "source": [
    "9) Crea un programa que pida al usuario dos números y muestre True si ambos son mayores que 10."
   ]
  },
  {
   "cell_type": "code",
   "execution_count": 10,
   "metadata": {},
   "outputs": [
    {
     "ename": "ValueError",
     "evalue": "could not convert string to float: 'qw'",
     "output_type": "error",
     "traceback": [
      "\u001b[1;31m---------------------------------------------------------------------------\u001b[0m",
      "\u001b[1;31mValueError\u001b[0m                                Traceback (most recent call last)",
      "Cell \u001b[1;32mIn[10], line 1\u001b[0m\n\u001b[1;32m----> 1\u001b[0m numero6 \u001b[38;5;241m=\u001b[39m \u001b[38;5;28;43mfloat\u001b[39;49m\u001b[43m(\u001b[49m\u001b[38;5;28;43minput\u001b[39;49m\u001b[43m(\u001b[49m\u001b[38;5;124;43m\"\u001b[39;49m\u001b[38;5;124;43mIngrese el primer número: \u001b[39;49m\u001b[38;5;124;43m\"\u001b[39;49m\u001b[43m)\u001b[49m\u001b[43m)\u001b[49m\n\u001b[0;32m      2\u001b[0m numero7 \u001b[38;5;241m=\u001b[39m \u001b[38;5;28mfloat\u001b[39m(\u001b[38;5;28minput\u001b[39m(\u001b[38;5;124m\"\u001b[39m\u001b[38;5;124mIngrese el segundo número: \u001b[39m\u001b[38;5;124m\"\u001b[39m))\n\u001b[0;32m      3\u001b[0m \u001b[38;5;28;01mif\u001b[39;00m numero6 \u001b[38;5;241m>\u001b[39m \u001b[38;5;241m10\u001b[39m \u001b[38;5;129;01mand\u001b[39;00m numero7 \u001b[38;5;241m>\u001b[39m \u001b[38;5;241m10\u001b[39m:\n",
      "\u001b[1;31mValueError\u001b[0m: could not convert string to float: 'qw'"
     ]
    }
   ],
   "source": [
    "numero6 = float(input(\"Ingrese el primer número: \"))\n",
    "numero7 = float(input(\"Ingrese el segundo número: \"))\n",
    "if numero6 > 10 and numero7 > 10:\n",
    "    print(\"True\")\n",
    "else:\n",
    "    print(\"False\")"
   ]
  },
  {
   "cell_type": "markdown",
   "metadata": {},
   "source": [
    "10) Escribe un programa que verifique si un número ingresado por el usuario es divisible por 3 y por 5."
   ]
  },
  {
   "cell_type": "code",
   "execution_count": null,
   "metadata": {},
   "outputs": [
    {
     "name": "stdout",
     "output_type": "stream",
     "text": [
      "El número 23.0 no es divisible por 3 y por 5.\n"
     ]
    }
   ],
   "source": [
    "numerodiv = float(input(\"Ingrese un número para dividir: \"))\n",
    "if numerodiv % 3 == 0 and numerodiv % 5 == 0:\n",
    "    print(\"El número\", numerodiv, \"es divisible por 3 y por 5.\")\n",
    "else:\n",
    "    print(\"El número\", numerodiv, \"no es divisible por 3 y por 5.\")"
   ]
  },
  {
   "cell_type": "markdown",
   "metadata": {},
   "source": [
    "11) Utilizando la información del punto 5, preguntar al usuario si posee carnet de conducir, luego verificar si puede conducir un automóvil."
   ]
  },
  {
   "cell_type": "code",
   "execution_count": null,
   "metadata": {},
   "outputs": [
    {
     "name": "stdout",
     "output_type": "stream",
     "text": [
      "Lo siento, usted es menor de edad y no puede conducir un automóvil.\n"
     ]
    }
   ],
   "source": [
    "\n",
    "if edad >= 18:\n",
    "    print(\"Usted es mayor de edad.\")\n",
    "\n",
    "    tiene_carnet = input(\"¿Posee carnet de conducir? (Responda 'si' o 'no'): \")\n",
    "\n",
    "    if tiene_carnet.lower() == \"si\":\n",
    "        print(\"¡Puede conducir un automóvil!\")\n",
    "    elif tiene_carnet.lower() == \"no\":\n",
    "        print(\"Lo siento, no puede conducir un automóvil sin carnet de conducir.\")\n",
    "    else:\n",
    "        print(\"Por favor, responda 'si' o 'no'.\")\n",
    "\n",
    "else:\n",
    "    print(\"Lo siento, usted es menor de edad y no puede conducir un automóvil.\")"
   ]
  },
  {
   "cell_type": "markdown",
   "metadata": {},
   "source": [
    "12) Pide al usuario un número y verifica si es positivo y no es mayor que 100."
   ]
  },
  {
   "cell_type": "code",
   "execution_count": null,
   "metadata": {},
   "outputs": [
    {
     "name": "stdout",
     "output_type": "stream",
     "text": [
      "El número ingresado no es positivo.\n"
     ]
    }
   ],
   "source": [
    "numero_positivo = float(input(\"Ingrese un número: \"))\n",
    "if numero_positivo > 0 and numero_positivo <= 100:\n",
    "    print(\"El número ingresado es positivo y no es mayor que 100.\")\n",
    "elif numero_positivo <= 0:\n",
    "    print(\"El número ingresado no es positivo.\")\n",
    "else:\n",
    "    print(\"El número ingresado es mayor que 100.\")\n"
   ]
  },
  {
   "cell_type": "markdown",
   "metadata": {},
   "source": [
    "13) Crear un programa que valide si un número ingresado por el usuario es par y mayor que 20."
   ]
  },
  {
   "cell_type": "code",
   "execution_count": null,
   "metadata": {},
   "outputs": [
    {
     "name": "stdout",
     "output_type": "stream",
     "text": [
      "El número ingresado es par y mayor que 20.\n"
     ]
    }
   ],
   "source": [
    "numero8 = int(input(\"Ingrese un número: \"))\n",
    "if numero8 % 2 == 0 and numero8 > 20:\n",
    "    print(\"El número ingresado es par y mayor que 20.\")\n",
    "else:\n",
    "    print(\"El número ingresado no cumple con la condición de ser par y mayor que 20.\")"
   ]
  },
  {
   "cell_type": "markdown",
   "metadata": {},
   "source": [
    "14) Dada la variable **numero = 5**, realizar la operación necesaria para que número sea igual a 8. Luego imprimir en pantalla el nuevo valor de número y realizar una nueva operación para que el valor de número sea igual a 4 y mostrar en pantalla el nuevo valor."
   ]
  },
  {
   "cell_type": "code",
   "execution_count": null,
   "metadata": {},
   "outputs": [
    {
     "name": "stdout",
     "output_type": "stream",
     "text": [
      "Nuevo valor de numero: 8\n",
      "Nuevo valor de numero: 4\n"
     ]
    }
   ],
   "source": [
    "numero = 5\n",
    "numero += 3 \n",
    "print(\"Nuevo valor de numero:\", numero)\n",
    "numero -= 4 \n",
    "print(\"Nuevo valor de numero:\", numero)\n",
    "\n"
   ]
  },
  {
   "cell_type": "markdown",
   "metadata": {},
   "source": [
    "15) Dadas las variables altura = \"10\" y base = 5, calcular el área de un triángulo y mostrar el resultado en pantalla. ¿Por qué el resultado es un error? ¿Cómo lo corregirías?"
   ]
  },
  {
   "cell_type": "code",
   "execution_count": null,
   "metadata": {},
   "outputs": [
    {
     "ename": "TypeError",
     "evalue": "unsupported operand type(s) for /: 'str' and 'int'",
     "output_type": "error",
     "traceback": [
      "\u001b[1;31m---------------------------------------------------------------------------\u001b[0m",
      "\u001b[1;31mTypeError\u001b[0m                                 Traceback (most recent call last)",
      "Cell \u001b[1;32mIn[110], line 3\u001b[0m\n\u001b[0;32m      1\u001b[0m altura \u001b[38;5;241m=\u001b[39m \u001b[38;5;124m\"\u001b[39m\u001b[38;5;124m10\u001b[39m\u001b[38;5;124m\"\u001b[39m\n\u001b[0;32m      2\u001b[0m base \u001b[38;5;241m=\u001b[39m \u001b[38;5;241m5\u001b[39m\n\u001b[1;32m----> 3\u001b[0m area \u001b[38;5;241m=\u001b[39m \u001b[43m(\u001b[49m\u001b[43mbase\u001b[49m\u001b[43m \u001b[49m\u001b[38;5;241;43m*\u001b[39;49m\u001b[43m \u001b[49m\u001b[43maltura\u001b[49m\u001b[43m)\u001b[49m\u001b[43m \u001b[49m\u001b[38;5;241;43m/\u001b[39;49m\u001b[43m \u001b[49m\u001b[38;5;241;43m2\u001b[39;49m\n\u001b[0;32m      4\u001b[0m \u001b[38;5;28mprint\u001b[39m(\u001b[38;5;124m\"\u001b[39m\u001b[38;5;124mEl área del triángulo es:\u001b[39m\u001b[38;5;124m\"\u001b[39m, area)\n\u001b[0;32m      5\u001b[0m \u001b[38;5;66;03m# Hay que convertir la altura en numero entero o flotante\u001b[39;00m\n",
      "\u001b[1;31mTypeError\u001b[0m: unsupported operand type(s) for /: 'str' and 'int'"
     ]
    }
   ],
   "source": [
    "altura = \"10\"\n",
    "base = 5\n",
    "area = (base * altura) / 2\n",
    "print(\"El área del triángulo es:\", area)\n",
    "# Hay que convertir la altura en numero entero o flotante"
   ]
  },
  {
   "cell_type": "code",
   "execution_count": null,
   "metadata": {},
   "outputs": [
    {
     "name": "stdout",
     "output_type": "stream",
     "text": [
      "El área del triángulo es: 25.0\n"
     ]
    }
   ],
   "source": [
    "altura = float(altura)\n",
    "area = (base * altura) / 2\n",
    "print(\"El área del triángulo es:\", area)"
   ]
  },
  {
   "cell_type": "markdown",
   "metadata": {},
   "source": [
    "16) Crea un programa que calcule el promedio de tres calificaciones ingresadas por el usuario, y comprobar si el alumno aprobó o no (aprueba con nota mayor a 6)."
   ]
  },
  {
   "cell_type": "code",
   "execution_count": null,
   "metadata": {},
   "outputs": [
    {
     "name": "stdout",
     "output_type": "stream",
     "text": [
      "El alumno aprobó con un promedio de: 7.0\n"
     ]
    }
   ],
   "source": [
    "calificacion1 = float(input(\"Ingrese la primera calificación: \"))\n",
    "calificacion2 = float(input(\"Ingrese la segunda calificación: \"))\n",
    "calificacion3 = float(input(\"Ingrese la tercera calificación: \"))\n",
    "promedio = (calificacion1 + calificacion2 + calificacion3) / 3\n",
    "if promedio > 6:\n",
    "    print(\"El alumno aprobó con un promedio de:\", promedio)\n",
    "else:\n",
    "    print(\"El alumno no aprobó con un promedio de:\", promedio)"
   ]
  },
  {
   "cell_type": "markdown",
   "metadata": {},
   "source": [
    "17) Pide al usuario su edad y calcula cuántos días, horas y minutos ha vivido aproximadamente (asumiendo 365 días por año)."
   ]
  },
  {
   "cell_type": "code",
   "execution_count": null,
   "metadata": {},
   "outputs": [
    {
     "name": "stdout",
     "output_type": "stream",
     "text": [
      "Has vivido:  8395 dias 201480 horas y 12088800 minutos en 23 años\n"
     ]
    }
   ],
   "source": [
    "edad = int(input(\"Ingresa tu edad: \"))\n",
    "dias = edad * 365\n",
    "horas = dias * 24\n",
    "minutos= horas * 60\n",
    "\n",
    "print(\"Has vivido: \", dias, \"dias\", horas, \"horas y\", minutos, \"minutos en\", edad, \"años\" )"
   ]
  },
  {
   "cell_type": "markdown",
   "metadata": {},
   "source": [
    "18) Crea un programa que verifique si un número ingresado por el usuario es múltiplo de 4 y de 6 al mismo tiempo."
   ]
  },
  {
   "cell_type": "code",
   "execution_count": null,
   "metadata": {},
   "outputs": [
    {
     "name": "stdout",
     "output_type": "stream",
     "text": [
      "37 no es múltiplo de 4 y de 6 al mismo tiempo.\n"
     ]
    }
   ],
   "source": [
    "numero9 = int(input(\"Ingresa un número: \"))\n",
    "if numero9 % 4 == 0 and numero9 % 6 == 0:\n",
    "    print(numero9, \"es múltiplo de 4 y de 6 al mismo tiempo.\")\n",
    "else:\n",
    "    print(numero9, \"no es múltiplo de 4 y de 6 al mismo tiempo.\")"
   ]
  },
  {
   "cell_type": "markdown",
   "metadata": {},
   "source": [
    "19) "
   ]
  }
 ],
 "metadata": {
  "kernelspec": {
   "display_name": "Python 3",
   "language": "python",
   "name": "python3"
  },
  "language_info": {
   "codemirror_mode": {
    "name": "ipython",
    "version": 3
   },
   "file_extension": ".py",
   "mimetype": "text/x-python",
   "name": "python",
   "nbconvert_exporter": "python",
   "pygments_lexer": "ipython3",
   "version": "3.12.2"
  }
 },
 "nbformat": 4,
 "nbformat_minor": 2
}
