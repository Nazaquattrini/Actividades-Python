{
 "cells": [
  {
   "cell_type": "markdown",
   "metadata": {},
   "source": [
    "PIEDRA, PAPEL O TIJERA\n",
    "Proyecto de Nazarena Quattrini"
   ]
  },
  {
   "cell_type": "code",
   "execution_count": 3,
   "metadata": {},
   "outputs": [
    {
     "name": "stdout",
     "output_type": "stream",
     "text": [
      "¡Bienvenido a Piedra, Papel o Tijera!\n",
      "Tu oponente ya está listo para jugar. Mucha Suerte\n",
      "Tu elegiste: Piedra\n",
      "Tu oponente eligió: Tijera\n",
      "¡Ganaste! Eres un genio\n",
      "Puntaje - Usuario: 1 Oponente: 0\n",
      "Tu elegiste: Papel\n",
      "Tu oponente eligió: Piedra\n",
      "¡Ganaste! Eres un genio\n",
      "Puntaje - Usuario: 2 Oponente: 0\n"
     ]
    }
   ],
   "source": [
    "from random import randint\n",
    "\n",
    "def determinar_ganador(jugada_usuario, jugada_maquina):\n",
    "    if jugada_usuario == jugada_maquina:\n",
    "        return \"Empate\"\n",
    "    elif (jugada_usuario == \"Piedra\" and jugada_maquina == \"Tijera\") or \\\n",
    "         (jugada_usuario == \"Papel\" and jugada_maquina == \"Piedra\") or \\\n",
    "         (jugada_usuario == \"Tijera\" and jugada_maquina == \"Papel\"):\n",
    "        return \"¡Ganaste! Eres un genio\"\n",
    "    else:\n",
    "        return \"Tu oponente gana. Suerte la próxima\"\n",
    "\n",
    "def jugar_piedra_papel_tijeras():\n",
    "    opciones = [\"Piedra\", \"Papel\", \"Tijera\"]\n",
    "    puntaje_usuario = 0\n",
    "    puntaje_maquina = 0\n",
    "    print(\"¡Bienvenido a Piedra, Papel o Tijera!\")\n",
    "    print(\"Tu oponente ya está listo para jugar. Mucha Suerte\")\n",
    "    while True:\n",
    "        jugada_usuario = input(\"Ingresa tu jugada (Piedra, Papel o Tijera): \").capitalize()\n",
    "        if jugada_usuario not in opciones:\n",
    "            print(\"Por favor, ingresa una opción válida.\")\n",
    "            continue\n",
    "        \n",
    "        # Imprimir la opción del usuario\n",
    "        print(\"Tu elegiste:\", jugada_usuario)\n",
    "        \n",
    "        indice_maquina = randint(0, 2)\n",
    "        jugada_maquina = opciones[indice_maquina]\n",
    "        \n",
    "        # Imprimir la opción de la máquina/oponente\n",
    "        print(\"Tu oponente eligió:\", jugada_maquina)\n",
    "\n",
    "        resultado = determinar_ganador(jugada_usuario, jugada_maquina)\n",
    "        print(resultado)\n",
    "        if resultado == \"¡Ganaste! Eres un genio\":\n",
    "            puntaje_usuario += 1\n",
    "        elif resultado == \"Tu oponente gana. Suerte la próxima\":\n",
    "            puntaje_maquina += 1\n",
    "        print(\"Puntaje - Usuario:\", puntaje_usuario, \"Oponente:\", puntaje_maquina)\n",
    "        \n",
    "        jugar_nuevamente = input(\"¿Quieres jugar de nuevo? (si/no): \").lower()\n",
    "        if jugar_nuevamente != \"si\":\n",
    "            break\n",
    "\n",
    "jugar_piedra_papel_tijeras()"
   ]
  }
 ],
 "metadata": {
  "kernelspec": {
   "display_name": "Python 3",
   "language": "python",
   "name": "python3"
  },
  "language_info": {
   "codemirror_mode": {
    "name": "ipython",
    "version": 3
   },
   "file_extension": ".py",
   "mimetype": "text/x-python",
   "name": "python",
   "nbconvert_exporter": "python",
   "pygments_lexer": "ipython3",
   "version": "3.12.2"
  }
 },
 "nbformat": 4,
 "nbformat_minor": 2
}
